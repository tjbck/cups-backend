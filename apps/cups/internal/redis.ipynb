{
 "cells": [
  {
   "cell_type": "code",
   "execution_count": 2,
   "id": "699a10e0",
   "metadata": {},
   "outputs": [],
   "source": [
    "import redis\n",
    "REDIS_HOST = 'localhost'\n",
    "REDIS = redis.Redis(host=REDIS_HOST, port=6379, db=0, password='root')\n",
    "r = REDIS"
   ]
  },
  {
   "cell_type": "code",
   "execution_count": 4,
   "id": "e93da141",
   "metadata": {},
   "outputs": [
    {
     "data": {
      "text/plain": [
       "{b'room': b'123', b'colour': b'', b'name': b'123'}"
      ]
     },
     "execution_count": 4,
     "metadata": {},
     "output_type": "execute_result"
    }
   ],
   "source": [
    "r.hgetall('7mV_tnELHm2OECubAAAG')"
   ]
  },
  {
   "cell_type": "code",
   "execution_count": 19,
   "id": "b46cbb46",
   "metadata": {},
   "outputs": [
    {
     "data": {
      "text/plain": [
       "0"
      ]
     },
     "execution_count": 19,
     "metadata": {},
     "output_type": "execute_result"
    }
   ],
   "source": [
    "r.llen('room:123')"
   ]
  },
  {
   "cell_type": "code",
   "execution_count": 20,
   "id": "4458bae5",
   "metadata": {},
   "outputs": [
    {
     "data": {
      "text/plain": [
       "[]"
      ]
     },
     "execution_count": 20,
     "metadata": {},
     "output_type": "execute_result"
    }
   ],
   "source": [
    "r.lrange('room:123',0,1)"
   ]
  },
  {
   "cell_type": "code",
   "execution_count": null,
   "id": "2f1cc398",
   "metadata": {},
   "outputs": [],
   "source": []
  }
 ],
 "metadata": {
  "kernelspec": {
   "display_name": "Python 3 (ipykernel)",
   "language": "python",
   "name": "python3"
  },
  "language_info": {
   "codemirror_mode": {
    "name": "ipython",
    "version": 3
   },
   "file_extension": ".py",
   "mimetype": "text/x-python",
   "name": "python",
   "nbconvert_exporter": "python",
   "pygments_lexer": "ipython3",
   "version": "3.9.12"
  }
 },
 "nbformat": 4,
 "nbformat_minor": 5
}
